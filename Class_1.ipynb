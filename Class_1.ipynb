{
  "cells": [
    {
      "cell_type": "markdown",
      "metadata": {
        "id": "view-in-github",
        "colab_type": "text"
      },
      "source": [
        "<a href=\"https://colab.research.google.com/github/Shravani703/HappyDB/blob/master/Class_1.ipynb\" target=\"_parent\"><img src=\"https://colab.research.google.com/assets/colab-badge.svg\" alt=\"Open In Colab\"/></a>"
      ]
    },
    {
      "cell_type": "markdown",
      "metadata": {
        "id": "zmJudDgk_8_c"
      },
      "source": [
        "# BUS AN 511: Programming Essentials  \n",
        "# Class 1 Python Basics  \n",
        "**Mingwen Yang**, University of Washington"
      ]
    },
    {
      "cell_type": "markdown",
      "metadata": {
        "id": "Dgl6UFiq_8_d"
      },
      "source": [
        "## 1. Print Statement and Comments\n",
        "You can execute a code by pressing \"Shift + Enter\". "
      ]
    },
    {
      "cell_type": "code",
      "execution_count": null,
      "metadata": {
        "id": "GjM0U4tK_8_e"
      },
      "outputs": [],
      "source": [
        "print('Hello World!')"
      ]
    },
    {
      "cell_type": "markdown",
      "metadata": {
        "id": "aze92nGB_8_f"
      },
      "source": [
        "**Comments**  \n",
        "- Code cell vs Markdown cell in google collab\n",
        "- Inside a \"code\" cell, any text following # (hash or pound sign) is ignored by the Python interpreter\n",
        "- Useful to make notes, explain code, or simply comment out code that you don't want to delete.\n",
        "- In a Jupyter Notebook, however, you may prefer to document comments in a \"Markdown\" cell as you can better format your comments."
      ]
    },
    {
      "cell_type": "code",
      "execution_count": null,
      "metadata": {
        "id": "zWZaqcbQ_8_f"
      },
      "outputs": [],
      "source": [
        "print(\"Hello World!\") # double quotes do not do anything fancy "
      ]
    },
    {
      "cell_type": "markdown",
      "metadata": {
        "id": "2On2dexf_8_f"
      },
      "source": [
        "## 2. Scalar Data Types\n",
        "Python has a small set of built-in types to handle numerical data, strings, boolean (True or False) values, etc.  \n",
        "These are called scalar types or scalars.  \n",
        "A scalar is a type that can have a single value such as 2, 7.14, or \"Anne\".  \n",
        "The commonly used scalar types in Python:  \n",
        "  - int (integer): a number without a fractional part. \n",
        "  - float (floating point number): a number that has both an integer and fractional part, separated by a point. \n",
        "  - bool (True or False value): a type to represent logical values. Can only be True or False.  \n",
        "  - str (String): a type to represent text. You can use single or double quotes to build a string.\n",
        "  - Single dimension data types, what is a non scalar data type?"
      ]
    },
    {
      "cell_type": "code",
      "execution_count": null,
      "metadata": {
        "id": "9GXMySef_8_f",
        "colab": {
          "base_uri": "https://localhost:8080/"
        },
        "outputId": "2988c1e8-593e-493e-b12e-33893a82e1ad"
      },
      "outputs": [
        {
          "output_type": "execute_result",
          "data": {
            "text/plain": [
              "int"
            ]
          },
          "metadata": {},
          "execution_count": 1
        }
      ],
      "source": [
        "type(5)"
      ]
    },
    {
      "cell_type": "code",
      "execution_count": null,
      "metadata": {
        "id": "RUjykYSr_8_g",
        "colab": {
          "base_uri": "https://localhost:8080/"
        },
        "outputId": "a0340362-3b5f-46d6-a45d-28e2a47cbef1"
      },
      "outputs": [
        {
          "output_type": "execute_result",
          "data": {
            "text/plain": [
              "float"
            ]
          },
          "metadata": {},
          "execution_count": 2
        }
      ],
      "source": [
        "type(1.75)"
      ]
    },
    {
      "cell_type": "code",
      "execution_count": null,
      "metadata": {
        "id": "sa-5ZHSd_8_g",
        "colab": {
          "base_uri": "https://localhost:8080/"
        },
        "outputId": "b7e7e425-48e6-445c-9cc5-0615c0384733"
      },
      "outputs": [
        {
          "output_type": "execute_result",
          "data": {
            "text/plain": [
              "str"
            ]
          },
          "metadata": {},
          "execution_count": 3
        }
      ],
      "source": [
        "type(\"Hello\") #quote needed for string types"
      ]
    },
    {
      "cell_type": "code",
      "execution_count": null,
      "metadata": {
        "id": "qV7Vbuu2_8_g",
        "colab": {
          "base_uri": "https://localhost:8080/"
        },
        "outputId": "29549bcb-4fd9-43f7-fb7e-d9092098dd2c"
      },
      "outputs": [
        {
          "output_type": "execute_result",
          "data": {
            "text/plain": [
              "bool"
            ]
          },
          "metadata": {},
          "execution_count": 4
        }
      ],
      "source": [
        "type(True)"
      ]
    },
    {
      "cell_type": "markdown",
      "metadata": {
        "id": "bhbvnt9N_8_g"
      },
      "source": [
        "### 2.1 String  \n",
        "Strings in Python are identified as a set of characters represented in the quotation marks. Python allows for either pairs of single or double quotes. Subsets of strings can be taken using the slice operator with indexes starting at 0 in the beginning of the string and working their way from -1 at the end.  \n",
        "The plus (+) sign is the string concatenation operator and the asterisk (*) is the repetition operator."
      ]
    },
    {
      "cell_type": "code",
      "execution_count": null,
      "metadata": {
        "id": "tMoiQPaE_8_h",
        "colab": {
          "base_uri": "https://localhost:8080/"
        },
        "outputId": "1ae4ba99-0a7c-4bad-fe95-9faf9b8f47c8"
      },
      "outputs": [
        {
          "output_type": "stream",
          "name": "stdout",
          "text": [
            "Hello World!\n",
            "H\n",
            "llo\n",
            "llo World!\n",
            "Hello World!Hello World!\n",
            "Hello World!TEST\n"
          ]
        }
      ],
      "source": [
        "str1 = \"Hello World!\"\n",
        "\n",
        "print(str1) # Print complete string\n",
        "print(str1[0]) # Print first character of the string | indexing starts from 0\n",
        "print(str1[2:5]) # Print characters starting from 3rd to 5th | includes the first index, excludes the last index\n",
        "print(str1[2:]) # Print string starting from 3rd character\n",
        "\n",
        "print(str1 * 2) # Print string two times\n",
        "print(str1 + \"TEST\") # Print concatenated string"
      ]
    },
    {
      "cell_type": "code",
      "execution_count": null,
      "metadata": {
        "id": "31aaaHuU_8_h",
        "colab": {
          "base_uri": "https://localhost:8080/"
        },
        "outputId": "095b98f3-ba82-455a-f22e-0e9bb2d05866"
      },
      "outputs": [
        {
          "output_type": "stream",
          "name": "stdout",
          "text": [
            "HELLO WORLD!\n"
          ]
        }
      ],
      "source": [
        "str2 = str1.upper()\n",
        "print(str2)"
      ]
    },
    {
      "cell_type": "code",
      "execution_count": null,
      "metadata": {
        "id": "AKvlDGu5_8_h",
        "colab": {
          "base_uri": "https://localhost:8080/"
        },
        "outputId": "25fa3a85-2298-4eef-df78-a3a6b2b7dbe3"
      },
      "outputs": [
        {
          "output_type": "stream",
          "name": "stdout",
          "text": [
            "hello world!\n"
          ]
        }
      ],
      "source": [
        "str3 = str2.lower()  \n",
        "print(str3)  #unrelated note: variable names are case sensitive"
      ]
    },
    {
      "cell_type": "markdown",
      "metadata": {
        "id": "8JjCDmtv_8_h"
      },
      "source": [
        "## 3. Variables \n",
        "Variables indicate stored information in the computer's memory.  \n",
        "- You can create a new variable and assign a value to it using assignment statements. e.g., x = 5\n",
        "- The = symbol is called the assignment operator and notifies Python to store the data on the right side of the statement into the variable name printed on the left side (i.e., x).\n",
        "- When assigning a variable in Python, you are actually creating a reference to the object in the right hand side of the equal sign\n",
        "- Assignments are **unidirectional** in Python.\n",
        "- Variable names are **case sensitive**.\n",
        "- Variable names can begin with an _ (underscore) or a letter, not a number.\n",
        "- Python's keywords cannot be used as variable names\n",
        "\n",
        "**Python Keywords**  \n",
        "\n",
        "False\tawait\telse\timport\tpass  \n",
        "None\tbreak\texcept\tin\traise  \n",
        "True\tclass\tfinally\tis\treturn  \n",
        "and\tcontinue\tfor\tlambda\ttry  \n",
        "as\tdef\tfrom\tnonlocal\twhile  \n",
        "assert\tdel\tglobal\tnot\twith  \n",
        "async\telif\tif\tor\tyield  "
      ]
    },
    {
      "cell_type": "code",
      "execution_count": null,
      "metadata": {
        "id": "3CCdsXgK_8_h",
        "colab": {
          "base_uri": "https://localhost:8080/"
        },
        "outputId": "e79c996e-5a6b-4471-8f5b-a52104e0db6d"
      },
      "outputs": [
        {
          "output_type": "stream",
          "name": "stdout",
          "text": [
            "100\n",
            "59.7\n",
            "Wendy\n"
          ]
        }
      ],
      "source": [
        "counter = 100 # an integer assignment \n",
        "miles = 59.7 # a floating point\n",
        "name = \"Wendy\" # a string \n",
        "\n",
        "print(counter)\n",
        "print(miles)\n",
        "print(name)"
      ]
    },
    {
      "cell_type": "code",
      "execution_count": null,
      "metadata": {
        "id": "t9QK0-KV_8_i",
        "colab": {
          "base_uri": "https://localhost:8080/",
          "height": 198
        },
        "outputId": "474f62b9-6a3d-4d3a-aed8-2cfb15c0fee9"
      },
      "outputs": [
        {
          "output_type": "error",
          "ename": "NameError",
          "evalue": "ignored",
          "traceback": [
            "\u001b[0;31m---------------------------------------------------------------------------\u001b[0m",
            "\u001b[0;31mNameError\u001b[0m                                 Traceback (most recent call last)",
            "\u001b[0;32m<ipython-input-9-e6f6428f5bbc>\u001b[0m in \u001b[0;36m<module>\u001b[0;34m()\u001b[0m\n\u001b[1;32m      1\u001b[0m \u001b[0;31m# why does the following code not work?\u001b[0m\u001b[0;34m\u001b[0m\u001b[0;34m\u001b[0m\u001b[0;34m\u001b[0m\u001b[0m\n\u001b[1;32m      2\u001b[0m \u001b[0mmy_variable\u001b[0m \u001b[0;34m=\u001b[0m \u001b[0;36m10\u001b[0m\u001b[0;34m\u001b[0m\u001b[0;34m\u001b[0m\u001b[0m\n\u001b[0;32m----> 3\u001b[0;31m \u001b[0mprint\u001b[0m\u001b[0;34m(\u001b[0m\u001b[0mmy_varable\u001b[0m\u001b[0;34m)\u001b[0m\u001b[0;34m\u001b[0m\u001b[0;34m\u001b[0m\u001b[0m\n\u001b[0m",
            "\u001b[0;31mNameError\u001b[0m: name 'my_varable' is not defined"
          ]
        }
      ],
      "source": [
        "# why does the following code not work?  \n",
        "my_variable = 10\n",
        "print(my_varable) #NameError, the variable name is not defined"
      ]
    },
    {
      "cell_type": "code",
      "execution_count": null,
      "metadata": {
        "id": "C8aeie2s_8_i",
        "colab": {
          "base_uri": "https://localhost:8080/"
        },
        "outputId": "7932484d-fda7-416b-e536-addf739a8f17"
      },
      "outputs": [
        {
          "output_type": "stream",
          "name": "stdout",
          "text": [
            "27\n"
          ]
        }
      ],
      "source": [
        "# assignments is unidirectional in Python\n",
        "variable1=27\n",
        "print(variable1)"
      ]
    },
    {
      "cell_type": "code",
      "execution_count": null,
      "metadata": {
        "id": "caYtjvmA_8_i"
      },
      "outputs": [],
      "source": [
        "# why does the following code not work?\n",
        "27=variable1 # This will cause error; assignments are unidirectional"
      ]
    },
    {
      "cell_type": "code",
      "execution_count": null,
      "metadata": {
        "id": "7MoekSYu_8_i"
      },
      "outputs": [],
      "source": [
        "# why does the following code not work?\n",
        "1variable = 35 #variable name starts with a number"
      ]
    },
    {
      "cell_type": "code",
      "execution_count": null,
      "metadata": {
        "id": "XXLkVFhs_8_i",
        "colab": {
          "base_uri": "https://localhost:8080/"
        },
        "outputId": "aa9bdc7f-eae7-4ad0-9b2b-f70d8a966f8c"
      },
      "outputs": [
        {
          "output_type": "stream",
          "name": "stdout",
          "text": [
            "3\n",
            "John\n"
          ]
        }
      ],
      "source": [
        "a = 3\n",
        "print(a)\n",
        "a = \"John\"\n",
        "print(a) # flexibility of python, it is not tied to the original data type - it will replace the data in the variable"
      ]
    },
    {
      "cell_type": "markdown",
      "metadata": {
        "id": "3xWriNwe_8_j"
      },
      "source": [
        "## 4. Arithmetic and Logical Operators  \n",
        "Most of the binary math operations and comparisons are as you might expect.\n",
        "It is a good practice to surround the following binary operators with a single space on either side:\n",
        "\n",
        "- assignment (=)\n",
        "- comparisons (==, <, >, !=, <=, >=, in, not in, is, is not)\n",
        "- Booleans (and, or, not)\n",
        "\n",
        "Pay attention to priority of operators."
      ]
    },
    {
      "cell_type": "code",
      "execution_count": null,
      "metadata": {
        "id": "NJPY2aem_8_j",
        "colab": {
          "base_uri": "https://localhost:8080/"
        },
        "outputId": "5d7f8e1b-cb71-45a5-8be4-f786176eefc2"
      },
      "outputs": [
        {
          "output_type": "execute_result",
          "data": {
            "text/plain": [
              "3"
            ]
          },
          "metadata": {},
          "execution_count": 12
        }
      ],
      "source": [
        "2+1"
      ]
    },
    {
      "cell_type": "code",
      "execution_count": null,
      "metadata": {
        "id": "MZQ7K_Ph_8_j",
        "colab": {
          "base_uri": "https://localhost:8080/"
        },
        "outputId": "a4a80c32-a544-4c51-d56c-ef97d0b5013b"
      },
      "outputs": [
        {
          "output_type": "execute_result",
          "data": {
            "text/plain": [
              "8"
            ]
          },
          "metadata": {},
          "execution_count": 13
        }
      ],
      "source": [
        "2**3 # exponentiation, 2 raised to the third power"
      ]
    },
    {
      "cell_type": "code",
      "execution_count": null,
      "metadata": {
        "id": "Qw4hLBnz_8_j",
        "colab": {
          "base_uri": "https://localhost:8080/"
        },
        "outputId": "711bfc65-5610-41f9-bc6a-9fdfee2477eb"
      },
      "outputs": [
        {
          "output_type": "execute_result",
          "data": {
            "text/plain": [
              "0.3"
            ]
          },
          "metadata": {},
          "execution_count": 14
        }
      ],
      "source": [
        "3/10"
      ]
    },
    {
      "cell_type": "code",
      "execution_count": null,
      "metadata": {
        "id": "TSsLIhtT_8_j",
        "colab": {
          "base_uri": "https://localhost:8080/"
        },
        "outputId": "d6340606-c6b7-4c6d-f3a7-05f58857d08a"
      },
      "outputs": [
        {
          "output_type": "execute_result",
          "data": {
            "text/plain": [
              "3"
            ]
          },
          "metadata": {},
          "execution_count": 15
        }
      ],
      "source": [
        "10//3 # floor divide 10 by 3, dropping any fractional remainder"
      ]
    },
    {
      "cell_type": "code",
      "execution_count": null,
      "metadata": {
        "id": "IuEZBpou_8_j",
        "colab": {
          "base_uri": "https://localhost:8080/"
        },
        "outputId": "9afb7f01-6b1c-43a5-98fc-d6585c07e99e"
      },
      "outputs": [
        {
          "output_type": "execute_result",
          "data": {
            "text/plain": [
              "1"
            ]
          },
          "metadata": {},
          "execution_count": 16
        }
      ],
      "source": [
        "10%3 # modulo operator yields the remainder after division"
      ]
    },
    {
      "cell_type": "code",
      "execution_count": null,
      "metadata": {
        "id": "BjSknxC80kfd",
        "colab": {
          "base_uri": "https://localhost:8080/"
        },
        "outputId": "c3ed8915-c484-42bb-bfd2-35b3494a0810"
      },
      "outputs": [
        {
          "output_type": "execute_result",
          "data": {
            "text/plain": [
              "14"
            ]
          },
          "metadata": {},
          "execution_count": 17
        }
      ],
      "source": [
        "2 + 3*4"
      ]
    },
    {
      "cell_type": "code",
      "execution_count": null,
      "metadata": {
        "id": "aKUqXH3A0xz3",
        "colab": {
          "base_uri": "https://localhost:8080/"
        },
        "outputId": "65256f18-acae-4cdc-d4d8-2a49c54e26a8"
      },
      "outputs": [
        {
          "output_type": "execute_result",
          "data": {
            "text/plain": [
              "20"
            ]
          },
          "metadata": {},
          "execution_count": 18
        }
      ],
      "source": [
        "(2+3) * 4"
      ]
    },
    {
      "cell_type": "markdown",
      "metadata": {
        "id": "JVrO_D3o_8_j"
      },
      "source": [
        "### 4.1 Boolean Logic   \n",
        "There are two boolean values: True and False.   \n",
        "True and False can be assigned to variables just like strings or numbers.   \n",
        "Logical operators for boolean values: == (exactly equal to), != (not equal to), > (greater than), >= (greater than or equal to), and, or, not   "
      ]
    },
    {
      "cell_type": "code",
      "execution_count": null,
      "metadata": {
        "id": "1_TK6LYV_8_k",
        "colab": {
          "base_uri": "https://localhost:8080/"
        },
        "outputId": "9aea11de-ca62-46d2-b2e7-d57d3ec75f2f"
      },
      "outputs": [
        {
          "output_type": "execute_result",
          "data": {
            "text/plain": [
              "False"
            ]
          },
          "metadata": {},
          "execution_count": 19
        }
      ],
      "source": [
        "a = 2\n",
        "b = 3\n",
        "a == b # equal vs assignment operator | sql selection runs on boolean logic SELECT WHERE"
      ]
    },
    {
      "cell_type": "code",
      "execution_count": null,
      "metadata": {
        "id": "4FWQaD8q_8_k",
        "colab": {
          "base_uri": "https://localhost:8080/"
        },
        "outputId": "b694390e-8fb0-4116-f760-6a8de3a58c94"
      },
      "outputs": [
        {
          "output_type": "execute_result",
          "data": {
            "text/plain": [
              "True"
            ]
          },
          "metadata": {},
          "execution_count": 20
        }
      ],
      "source": [
        "a != b"
      ]
    },
    {
      "cell_type": "code",
      "execution_count": null,
      "metadata": {
        "id": "X7hmhhUN_8_k",
        "colab": {
          "base_uri": "https://localhost:8080/"
        },
        "outputId": "cbf6dc9a-ef48-44a2-dae7-50d4f1ed7210"
      },
      "outputs": [
        {
          "output_type": "execute_result",
          "data": {
            "text/plain": [
              "True"
            ]
          },
          "metadata": {},
          "execution_count": 21
        }
      ],
      "source": [
        "a>1 and b>1 # both conditions must be satisfied "
      ]
    },
    {
      "cell_type": "code",
      "execution_count": null,
      "metadata": {
        "id": "d9PXbXio_8_k",
        "colab": {
          "base_uri": "https://localhost:8080/"
        },
        "outputId": "f5e1b58f-74cb-440d-efa6-b39ec64570ff"
      },
      "outputs": [
        {
          "output_type": "execute_result",
          "data": {
            "text/plain": [
              "False"
            ]
          },
          "metadata": {},
          "execution_count": 22
        }
      ],
      "source": [
        "a>1 and b>8"
      ]
    },
    {
      "cell_type": "code",
      "execution_count": null,
      "metadata": {
        "id": "CqBa9yLf_8_k",
        "colab": {
          "base_uri": "https://localhost:8080/"
        },
        "outputId": "5067f771-61c3-4857-efb4-e2196a035374"
      },
      "outputs": [
        {
          "output_type": "execute_result",
          "data": {
            "text/plain": [
              "True"
            ]
          },
          "metadata": {},
          "execution_count": 23
        }
      ],
      "source": [
        "a>1 or b>8"
      ]
    },
    {
      "cell_type": "markdown",
      "metadata": {
        "id": "jdPCcnMM_8_k"
      },
      "source": [
        "## 5. Import Packages or Libraries\n",
        "For example, you may want to calculate the area of a circle. When the radius is r, the area is $A = \\pi r^2$. To use the constant $\\pi$, you’ll need the math package. **most open source software has packages**"
      ]
    },
    {
      "cell_type": "code",
      "execution_count": null,
      "metadata": {
        "id": "2YSzgeNH_8_k",
        "colab": {
          "base_uri": "https://localhost:8080/"
        },
        "outputId": "2b0209a9-5dfd-4f20-9f95-db8ed51a3180"
      },
      "outputs": [
        {
          "output_type": "stream",
          "name": "stdout",
          "text": [
            "0.2827433388230814\n"
          ]
        }
      ],
      "source": [
        "# radius\n",
        "r = 0.3\n",
        "import math # Import the math package.\n",
        "# Now you can access the constant pi with math.pi\n",
        "A = math.pi *r *r\n",
        "print(A)"
      ]
    },
    {
      "cell_type": "code",
      "execution_count": null,
      "metadata": {
        "id": "Q8tu0iHt_8_l",
        "colab": {
          "base_uri": "https://localhost:8080/"
        },
        "outputId": "4d80353a-ffc1-4b41-d7e6-08cda55053c7"
      },
      "outputs": [
        {
          "output_type": "execute_result",
          "data": {
            "text/plain": [
              "['False',\n",
              " 'None',\n",
              " 'True',\n",
              " 'and',\n",
              " 'as',\n",
              " 'assert',\n",
              " 'async',\n",
              " 'await',\n",
              " 'break',\n",
              " 'class',\n",
              " 'continue',\n",
              " 'def',\n",
              " 'del',\n",
              " 'elif',\n",
              " 'else',\n",
              " 'except',\n",
              " 'finally',\n",
              " 'for',\n",
              " 'from',\n",
              " 'global',\n",
              " 'if',\n",
              " 'import',\n",
              " 'in',\n",
              " 'is',\n",
              " 'lambda',\n",
              " 'nonlocal',\n",
              " 'not',\n",
              " 'or',\n",
              " 'pass',\n",
              " 'raise',\n",
              " 'return',\n",
              " 'try',\n",
              " 'while',\n",
              " 'with',\n",
              " 'yield']"
            ]
          },
          "metadata": {},
          "execution_count": 26
        }
      ],
      "source": [
        "import keyword\n",
        "keyword.kwlist # we are using the kwlist function of the keyword module\n",
        "# These are all the in-built keywords\n",
        "# a package to simply let you know of all the reserved words in python"
      ]
    },
    {
      "cell_type": "markdown",
      "metadata": {
        "id": "ch6EZ8QN_8_l"
      },
      "source": [
        "### 5.1 Selective import  \n",
        "General imports, like import math, make all functionality from the math package available to you. However, if you decide to only use a specific part of a package, you can always make your import more selective."
      ]
    },
    {
      "cell_type": "code",
      "execution_count": null,
      "metadata": {
        "id": "u9IbklXM_8_l"
      },
      "outputs": [],
      "source": [
        "from math import pi\n",
        "r = 0.3\n",
        "A = pi *r *r # here we can directly use pi as opposed to math.pi\n",
        "print(A)"
      ]
    },
    {
      "cell_type": "markdown",
      "metadata": {
        "id": "0CG0ltlT_8_l"
      },
      "source": [
        "### 5.2 Another example "
      ]
    },
    {
      "cell_type": "code",
      "execution_count": null,
      "metadata": {
        "id": "-ty9jy6E_8_l",
        "colab": {
          "base_uri": "https://localhost:8080/"
        },
        "outputId": "76f5394b-2a15-40a4-b70c-e53cd96d47e5"
      },
      "outputs": [
        {
          "output_type": "execute_result",
          "data": {
            "text/plain": [
              "[1, 2, 3, 4, 5]"
            ]
          },
          "metadata": {},
          "execution_count": 28
        }
      ],
      "source": [
        "numbers = [1,2,3,4,5] # a list of numbers\n",
        "numbers"
      ]
    },
    {
      "cell_type": "code",
      "execution_count": null,
      "metadata": {
        "id": "184wmTjM_8_l",
        "colab": {
          "base_uri": "https://localhost:8080/"
        },
        "outputId": "e09f5588-41fe-44b2-b0db-8beb22afe462"
      },
      "outputs": [
        {
          "output_type": "stream",
          "name": "stdout",
          "text": [
            "3\n"
          ]
        }
      ],
      "source": [
        "import statistics\n",
        "\n",
        "mean = statistics.mean(numbers)\n",
        "print(mean)"
      ]
    },
    {
      "cell_type": "code",
      "execution_count": null,
      "metadata": {
        "id": "PxkZfedZ_8_l",
        "colab": {
          "base_uri": "https://localhost:8080/"
        },
        "outputId": "7c9ab4c8-a905-4b7d-d966-d72cdfaa7e5f"
      },
      "outputs": [
        {
          "output_type": "stream",
          "name": "stdout",
          "text": [
            "3\n"
          ]
        }
      ],
      "source": [
        "import statistics as s #create a nick name for your package\n",
        "\n",
        "mean = s.mean(numbers)\n",
        "print(mean)"
      ]
    },
    {
      "cell_type": "code",
      "execution_count": null,
      "metadata": {
        "id": "u6ycqzmB_8_l",
        "colab": {
          "base_uri": "https://localhost:8080/"
        },
        "outputId": "ed264fcf-53db-4904-ccc6-b8f4fc2b595b"
      },
      "outputs": [
        {
          "output_type": "stream",
          "name": "stdout",
          "text": [
            "3\n"
          ]
        }
      ],
      "source": [
        "from statistics import mean\n",
        "\n",
        "mean = mean(numbers)\n",
        "print(mean)"
      ]
    },
    {
      "cell_type": "code",
      "execution_count": null,
      "metadata": {
        "id": "toFEo-Mz_8_m",
        "colab": {
          "base_uri": "https://localhost:8080/"
        },
        "outputId": "451f19d3-bb05-4192-dc2b-b9e0e2b2fbae"
      },
      "outputs": [
        {
          "output_type": "stream",
          "name": "stdout",
          "text": [
            "3\n"
          ]
        }
      ],
      "source": [
        "from statistics import mean as m\n",
        "mean = m(numbers)\n",
        "print(mean)"
      ]
    },
    {
      "cell_type": "code",
      "execution_count": null,
      "metadata": {
        "id": "__se10mz_8_m",
        "colab": {
          "base_uri": "https://localhost:8080/"
        },
        "outputId": "ac9d92ea-ff32-4590-e4ab-10cfe55b7ffa"
      },
      "outputs": [
        {
          "output_type": "stream",
          "name": "stdout",
          "text": [
            "3\n",
            "3\n"
          ]
        }
      ],
      "source": [
        "from statistics import mean as m, median as med\n",
        "mean = m(numbers)\n",
        "median = med(numbers)\n",
        "print(mean)\n",
        "print(median)"
      ]
    },
    {
      "cell_type": "markdown",
      "metadata": {
        "id": "bfvjOnNK_8_m"
      },
      "source": [
        "### 5.3 In-class exercise \n",
        "Selectively import the square root function sqrt from math package. Then compute the square\n",
        "root of 10."
      ]
    },
    {
      "cell_type": "code",
      "source": [
        "from math import sqrt\n",
        "square_root=sqrt(10)\n",
        "print(square_root)"
      ],
      "metadata": {
        "colab": {
          "base_uri": "https://localhost:8080/"
        },
        "id": "sKIhQtgXrzUK",
        "outputId": "ab7c76be-d6a7-4c39-de7e-fd42f983d29b"
      },
      "execution_count": null,
      "outputs": [
        {
          "output_type": "stream",
          "name": "stdout",
          "text": [
            "3.1622776601683795\n"
          ]
        }
      ]
    },
    {
      "cell_type": "markdown",
      "metadata": {
        "id": "K4fpaJRm_8_m"
      },
      "source": [
        "## 6. List \n",
        "Lists are the most versatile of Python’s compound data types. A list contains items separated by commas and enclosed within square brackets ([]).  \n",
        "The values stored in a list can be accessed using the slice operator ([ ] and [:]) with indexes starting at 0 in the beginning of the list and working their way to end -1.   \n",
        "The plus (+) sign is the list concatenation operator, and the asterisk (*) is the repetition operator. "
      ]
    },
    {
      "cell_type": "code",
      "execution_count": null,
      "metadata": {
        "id": "ytpub-hQ_8_m",
        "colab": {
          "base_uri": "https://localhost:8080/"
        },
        "outputId": "b4889d89-6756-44ff-c4e5-103b55e0277f"
      },
      "outputs": [
        {
          "output_type": "stream",
          "name": "stdout",
          "text": [
            "[10, 'abcd', 786, 2.23, 'john']\n"
          ]
        }
      ],
      "source": [
        "# A list is a compound data type, you can group values together | non scalar data type | diff elements of list can be diff data types\n",
        "a = 10\n",
        "my_list = [ a, 'abcd', 786 , 2.23, 'john']\n",
        "print(my_list)"
      ]
    },
    {
      "cell_type": "code",
      "execution_count": null,
      "metadata": {
        "id": "qEhABlGu_8_m",
        "colab": {
          "base_uri": "https://localhost:8080/"
        },
        "outputId": "aa15c413-6094-4999-a54c-338660376910"
      },
      "outputs": [
        {
          "output_type": "stream",
          "name": "stdout",
          "text": [
            "[123, 'john', 123, 'john']\n",
            "[10, 'abcd', 786, 2.23, 'john', 123, 'john']\n"
          ]
        }
      ],
      "source": [
        "tinylist = [123, 'john']\n",
        "print(tinylist * 2) # Prints list two times\n",
        "print(my_list + tinylist) # Prints concatenated lists - combine 2 lists"
      ]
    },
    {
      "cell_type": "markdown",
      "metadata": {
        "id": "0BRwGkXn_8_m"
      },
      "source": [
        "### 6.1 Indexing and Slicing"
      ]
    },
    {
      "cell_type": "code",
      "execution_count": null,
      "metadata": {
        "id": "RUcOQ5xd_8_m",
        "colab": {
          "base_uri": "https://localhost:8080/"
        },
        "outputId": "a35a498e-452b-40a1-8b62-73819d677d54"
      },
      "outputs": [
        {
          "output_type": "stream",
          "name": "stdout",
          "text": [
            "[10, 'abcd', 786, 2.23, 'john']\n",
            "10\n",
            "['abcd', 786]\n",
            "[786, 2.23, 'john']\n",
            "john\n"
          ]
        }
      ],
      "source": [
        "print(my_list) # Print complete list\n",
        "print(my_list[0]) # Print first element of the list | indexing starts at 0\n",
        "print(my_list[1:3]) # Print elements starting from 2nd till 3rd | includes starting index, excludes ending index\n",
        "print(my_list[2:]) # Print elements starting from 3rd element\n",
        "print(my_list[-1]) # Print the last element | counting from the back from -1"
      ]
    },
    {
      "cell_type": "code",
      "execution_count": null,
      "metadata": {
        "id": "QsXk3fqs_8_n",
        "colab": {
          "base_uri": "https://localhost:8080/"
        },
        "outputId": "3a9e5a4a-836d-46aa-d895-6a510ee28c76"
      },
      "outputs": [
        {
          "output_type": "stream",
          "name": "stdout",
          "text": [
            "786\n"
          ]
        },
        {
          "output_type": "execute_result",
          "data": {
            "text/plain": [
              "5"
            ]
          },
          "metadata": {},
          "execution_count": 39
        }
      ],
      "source": [
        "# Variables can also be used as indexing\n",
        "myStart = 2\n",
        "print(my_list[myStart])\n",
        "# get the length of a list\n",
        "len(my_list)"
      ]
    },
    {
      "cell_type": "markdown",
      "metadata": {
        "id": "9galodS__8_n"
      },
      "source": [
        "### 6.2 List Manipulation\n",
        "Replacing list elements is pretty easy. Simply subset the list and assign new values to the subset. You can select single elements or you can change entire list slices at once."
      ]
    },
    {
      "cell_type": "code",
      "execution_count": null,
      "metadata": {
        "id": "ThdF0p-b_8_n",
        "colab": {
          "base_uri": "https://localhost:8080/"
        },
        "outputId": "30ee804f-bda1-44f6-ecdb-ac88cf20def6"
      },
      "outputs": [
        {
          "output_type": "stream",
          "name": "stdout",
          "text": [
            "['a', 'r', 'c', 'd']\n",
            "['a', 'r', 's', 't']\n"
          ]
        }
      ],
      "source": [
        "x = ['a', 'b', 'c', 'd']\n",
        "x[1] = 'r' # replace an element\n",
        "print(x)\n",
        "x[2:] = ['s', 't']\n",
        "print(x)"
      ]
    },
    {
      "cell_type": "markdown",
      "metadata": {
        "id": "Fuov73V8_8_n"
      },
      "source": [
        "Extend a list with the + operator. Add new elements into a list."
      ]
    },
    {
      "cell_type": "code",
      "execution_count": null,
      "metadata": {
        "id": "KjipsjNq_8_n",
        "colab": {
          "base_uri": "https://localhost:8080/"
        },
        "outputId": "c1b56b58-788e-4a8b-dcd4-3ef09d1ff162"
      },
      "outputs": [
        {
          "output_type": "stream",
          "name": "stdout",
          "text": [
            "['a', 'b', 'c', 'd', 'e', 'f']\n"
          ]
        }
      ],
      "source": [
        "x = ['a', 'b', 'c', 'd']\n",
        "y = x + ['e', 'f']\n",
        "print(y)"
      ]
    },
    {
      "cell_type": "markdown",
      "metadata": {
        "id": "OmnPZ8ER_8_n"
      },
      "source": [
        "Delete list elements with del statement."
      ]
    },
    {
      "cell_type": "code",
      "execution_count": null,
      "metadata": {
        "id": "5nCg4JcR_8_n",
        "colab": {
          "base_uri": "https://localhost:8080/"
        },
        "outputId": "638a47c1-ca9c-4909-d823-2d28927b8c3e"
      },
      "outputs": [
        {
          "output_type": "stream",
          "name": "stdout",
          "text": [
            "['a', 'c', 'd']\n"
          ]
        }
      ],
      "source": [
        "x = ['a', 'b', 'c', 'd']\n",
        "del(x[1])\n",
        "print(x)"
      ]
    },
    {
      "cell_type": "markdown",
      "metadata": {
        "id": "o-7Ezycn_8_n"
      },
      "source": [
        "### 6.3 In-class exercise \n",
        "The following list, areas, that contains the area of the hallway, kitchen, living room, bedroom and\n",
        "bathroom, in this order.   \n",
        "areas = [\"hallway\", 11.25, \"kitchen\", 18.0, \"living room\", 20.0, \"bedroom\", 10.75, \"bathroom\", 9.50]\n",
        "- Use slicing to create a list, downstairs, that contains the first 6 elements of areas.\n",
        "- Do a similar thing to create a new variable, upstairs, that contains the last 4 elements of areas.\n",
        "- Print both downstairs and upstairs"
      ]
    },
    {
      "cell_type": "code",
      "source": [
        "areas = [\"hallway\", 11.25, \"kitchen\", 18.0, \"living room\", 20.0, \"bedroom\", 10.75, \"bathroom\", 9.50]\n",
        "downstairs=areas[:6]\n",
        "upstairs1=areas[-4:]\n",
        "upstairs2=areas[6:]\n",
        "print(downstairs)\n",
        "print(upstairs1)\n",
        "print(upstairs2)"
      ],
      "metadata": {
        "colab": {
          "base_uri": "https://localhost:8080/"
        },
        "id": "6QoHcb6yuj3f",
        "outputId": "e222e946-12b8-4530-e6af-7bdfcafbb66e"
      },
      "execution_count": null,
      "outputs": [
        {
          "output_type": "stream",
          "name": "stdout",
          "text": [
            "['hallway', 11.25, 'kitchen', 18.0, 'living room', 20.0]\n",
            "['bedroom', 10.75, 'bathroom', 9.5]\n",
            "['bedroom', 10.75, 'bathroom', 9.5]\n"
          ]
        }
      ]
    },
    {
      "cell_type": "markdown",
      "metadata": {
        "id": "LUKDoJyG_8_n"
      },
      "source": [
        "## 7. Numpy  \n",
        "Numpy (Numeric Python) is the fundamental package for data science and scientific computing with Python."
      ]
    },
    {
      "cell_type": "code",
      "execution_count": null,
      "metadata": {
        "id": "PisXDImb_8_o",
        "colab": {
          "base_uri": "https://localhost:8080/",
          "height": 232
        },
        "outputId": "ec8e40f7-a6d8-4cb1-82e2-d9277833aa01"
      },
      "outputs": [
        {
          "output_type": "error",
          "ename": "TypeError",
          "evalue": "ignored",
          "traceback": [
            "\u001b[0;31m---------------------------------------------------------------------------\u001b[0m",
            "\u001b[0;31mTypeError\u001b[0m                                 Traceback (most recent call last)",
            "\u001b[0;32m<ipython-input-49-cc922512ffea>\u001b[0m in \u001b[0;36m<module>\u001b[0;34m()\u001b[0m\n\u001b[1;32m      4\u001b[0m \u001b[0mwidth\u001b[0m \u001b[0;34m=\u001b[0m \u001b[0;34m[\u001b[0m\u001b[0;36m1.4\u001b[0m\u001b[0;34m,\u001b[0m \u001b[0;36m3.2\u001b[0m\u001b[0;34m,\u001b[0m \u001b[0;36m1\u001b[0m\u001b[0;34m,\u001b[0m \u001b[0;36m6\u001b[0m\u001b[0;34m]\u001b[0m\u001b[0;34m\u001b[0m\u001b[0;34m\u001b[0m\u001b[0m\n\u001b[1;32m      5\u001b[0m \u001b[0;31m# we want to calculate area of the rectangles\u001b[0m\u001b[0;34m\u001b[0m\u001b[0;34m\u001b[0m\u001b[0;34m\u001b[0m\u001b[0m\n\u001b[0;32m----> 6\u001b[0;31m \u001b[0mlength\u001b[0m \u001b[0;34m*\u001b[0m \u001b[0mwidth\u001b[0m \u001b[0;31m# it can't do a one to one mapping between the lists\u001b[0m\u001b[0;34m\u001b[0m\u001b[0;34m\u001b[0m\u001b[0m\n\u001b[0m\u001b[1;32m      7\u001b[0m \u001b[0;31m# or double the length of every rectangle\u001b[0m\u001b[0;34m\u001b[0m\u001b[0;34m\u001b[0m\u001b[0;34m\u001b[0m\u001b[0m\n\u001b[1;32m      8\u001b[0m \u001b[0mlength\u001b[0m \u001b[0;34m*\u001b[0m \u001b[0;36m2\u001b[0m\u001b[0;34m\u001b[0m\u001b[0;34m\u001b[0m\u001b[0m\n",
            "\u001b[0;31mTypeError\u001b[0m: can't multiply sequence by non-int of type 'list'"
          ]
        }
      ],
      "source": [
        "# the list length represents the length of some rectangles\n",
        "# the list width represents the width of some rectangles\n",
        "length = [2, 4, 6, 8]\n",
        "width = [1.4, 3.2, 1, 6]\n",
        "# we want to calculate area of the rectangles\n",
        "length * width # it can't do a one to one mapping between the lists | Type error\n",
        "# or double the length of every rectangle\n",
        "length * 2"
      ]
    },
    {
      "cell_type": "markdown",
      "source": [
        "**What are the properties of numpy arrays?**"
      ],
      "metadata": {
        "id": "-jDh45b6xTUT"
      }
    },
    {
      "cell_type": "markdown",
      "metadata": {
        "id": "y-YgCwC6_8_o"
      },
      "source": [
        "Numpy array is an alternative to Python list. It makes calculations over the entire arrays. "
      ]
    },
    {
      "cell_type": "code",
      "execution_count": null,
      "metadata": {
        "id": "Bz-oCtTb_8_o",
        "colab": {
          "base_uri": "https://localhost:8080/"
        },
        "outputId": "cf405faa-4a40-4b18-c749-9412bdd9a412"
      },
      "outputs": [
        {
          "output_type": "stream",
          "name": "stdout",
          "text": [
            "[2 4 6 8]\n"
          ]
        }
      ],
      "source": [
        "import numpy as np # you can now refer to numpy as np \n",
        "# use np.array() to create a numpy array from length.\n",
        "np_length = np.array(length) # np.array is a function to do the type conversion | you can convert the list to a numpy array\n",
        "print(np_length)"
      ]
    },
    {
      "cell_type": "code",
      "execution_count": null,
      "metadata": {
        "id": "d1VLOCL8_8_o"
      },
      "outputs": [],
      "source": [
        "# Math on numpy arrays\n",
        "print(np_length+1)\n",
        "print(np_length*2)\n",
        "print(np_length + np_length)"
      ]
    },
    {
      "cell_type": "code",
      "execution_count": null,
      "metadata": {
        "id": "Ba78arbD_8_o"
      },
      "outputs": [],
      "source": [
        "np_width = np.array(width)\n",
        "print(np_width)"
      ]
    },
    {
      "cell_type": "code",
      "execution_count": null,
      "metadata": {
        "id": "bQHsp3QN_8_o"
      },
      "outputs": [],
      "source": [
        "print(np_length*np_width)"
      ]
    },
    {
      "cell_type": "markdown",
      "metadata": {
        "id": "ZkZp3sHK_8_o"
      },
      "source": [
        "### 7.1 In-class exercise \n",
        "The list baseball_h represents the height of some baseball players in inches.   \n",
        "baseball_h = [72,78, 69,71,76, 79]  \n",
        "Let’s first convert all height measurements from inches to meters. Multiply by 0.0254 to go from inches to meters.\n",
        "Store the new values in a new array, height_m. Print out height_m and check if the output makes sense.\n",
        "\n",
        "We also have the weight (in pounds) of each baseball player as follows:  \n",
        "baseball_w = [180, 215, 210, 188, 176, 209]  \n",
        "Multiply by 0.453592 to go from pounds to kilograms. Store the resulting numpy array as weight_kg.  \n",
        "\n",
        "Use height_m and weight_kg to calculate the BMI of each player as follows:  \n",
        "$BMI = \\frac{weight(kg)}{height(m)*height(m)}$ \n",
        "Save the resulting numpy array as bmi and print out the values. "
      ]
    },
    {
      "cell_type": "code",
      "source": [
        "baseball_h = [72,78, 69,71,76, 79]\n",
        "\n",
        "import numpy as np\n",
        "baseball_m=np.array(baseball_h)\n",
        "baseball_m=baseball_m*0.0254\n",
        "print(baseball_m)\n",
        "\n",
        "baseball_w = [180, 215, 210, 188, 176, 209]  \n",
        "baseball_p=np.array(baseball_w)\n",
        "baseball_p=baseball_p*0.453592\n",
        "print(baseball_p)\n",
        "\n",
        "BMI = baseball_p/(baseball_m**2)\n",
        "print(BMI)\n"
      ],
      "metadata": {
        "colab": {
          "base_uri": "https://localhost:8080/"
        },
        "id": "wn74cMntxeVE",
        "outputId": "faac4cf5-0127-4fba-f017-b716f9a71263"
      },
      "execution_count": null,
      "outputs": [
        {
          "output_type": "stream",
          "name": "stdout",
          "text": [
            "[1.8288 1.9812 1.7526 1.8034 1.9304 2.0066]\n",
            "[81.64656  97.52228  95.25432  85.275296 79.832192 94.800728]\n",
            "[24.41211827 24.84546948 31.01123531 26.22038745 21.42315531 23.54453169]\n"
          ]
        }
      ]
    },
    {
      "cell_type": "markdown",
      "metadata": {
        "id": "N7GPWNYV_8_o"
      },
      "source": [
        "### 7.2 Numpy array indexing and slicing \n",
        "To subset both regular Python lists and numpy arrays, we can use the square brackets."
      ]
    },
    {
      "cell_type": "code",
      "execution_count": null,
      "metadata": {
        "id": "HWVI5_Fu_8_p",
        "colab": {
          "base_uri": "https://localhost:8080/"
        },
        "outputId": "5186f83b-ea46-4d7f-e163-f156c0900e56"
      },
      "outputs": [
        {
          "output_type": "stream",
          "name": "stdout",
          "text": [
            "9\n",
            "9\n",
            "[9 6]\n",
            "[3 1]\n",
            "3\n"
          ]
        }
      ],
      "source": [
        "x = [4 , 9 , 6, 3, 1]\n",
        "print(x[1])\n",
        "y = np.array(x)\n",
        "print(y[1])\n",
        "print(y[1:3])\n",
        "print(y[3:])\n",
        "print(y[-2])"
      ]
    },
    {
      "cell_type": "markdown",
      "metadata": {
        "id": "eRbz-71o_8_p"
      },
      "source": [
        "For numpy only, we can also use a list of integers to select positions."
      ]
    },
    {
      "cell_type": "code",
      "execution_count": null,
      "metadata": {
        "id": "eNXOyNKG_8_p",
        "colab": {
          "base_uri": "https://localhost:8080/",
          "height": 249
        },
        "outputId": "44e4c144-1c3a-4a90-ebc9-35f5fe26a144"
      },
      "outputs": [
        {
          "output_type": "stream",
          "name": "stdout",
          "text": [
            "[4 9 6 3 1]\n",
            "[4 1 6]\n",
            "[4, 9, 6, 3, 1]\n"
          ]
        },
        {
          "output_type": "error",
          "ename": "TypeError",
          "evalue": "ignored",
          "traceback": [
            "\u001b[0;31m---------------------------------------------------------------------------\u001b[0m",
            "\u001b[0;31mTypeError\u001b[0m                                 Traceback (most recent call last)",
            "\u001b[0;32m<ipython-input-58-7a3a06e808ac>\u001b[0m in \u001b[0;36m<module>\u001b[0;34m()\u001b[0m\n\u001b[1;32m      5\u001b[0m \u001b[0;31m# compare with list\u001b[0m\u001b[0;34m\u001b[0m\u001b[0;34m\u001b[0m\u001b[0;34m\u001b[0m\u001b[0m\n\u001b[1;32m      6\u001b[0m \u001b[0mprint\u001b[0m\u001b[0;34m(\u001b[0m\u001b[0mx\u001b[0m\u001b[0;34m)\u001b[0m\u001b[0;34m\u001b[0m\u001b[0;34m\u001b[0m\u001b[0m\n\u001b[0;32m----> 7\u001b[0;31m \u001b[0mx\u001b[0m \u001b[0;34m=\u001b[0m \u001b[0mx\u001b[0m\u001b[0;34m[\u001b[0m\u001b[0;34m[\u001b[0m\u001b[0;36m0\u001b[0m\u001b[0;34m,\u001b[0m\u001b[0;36m4\u001b[0m\u001b[0;34m,\u001b[0m\u001b[0;36m2\u001b[0m\u001b[0;34m]\u001b[0m\u001b[0;34m]\u001b[0m \u001b[0;31m# wrong syntex\u001b[0m\u001b[0;34m\u001b[0m\u001b[0;34m\u001b[0m\u001b[0m\n\u001b[0m",
            "\u001b[0;31mTypeError\u001b[0m: list indices must be integers or slices, not list"
          ]
        }
      ],
      "source": [
        "print(y) # print the entire numpy array\n",
        "sub_y = y[[0,4,2]] # get a subset of the numpy array and assign it to sub_y | choose the 1st, 5th, 3rd element\n",
        "print(sub_y) # print the subset\n",
        "\n",
        "# compare with list\n",
        "print(x)\n",
        "x = x[[0,4,2]] # wrong syntex"
      ]
    },
    {
      "cell_type": "markdown",
      "metadata": {
        "id": "YZly5ZZ9_8_p"
      },
      "source": [
        "### 7.3 Comparing Numpy with basic Python lists\n",
        "Numpy is great for doing vector arithmetic. If you compare its functionality with regular Python lists, however, some things have changed.  \n",
        "- Numpy arrays cannot contain elements with different types. If you try to build such a list, some of the elements' types are changed to end up with a homogeneous list.\n",
        "- The typical arithmetic operators, such as + and * have a different meaning for regular Python lists and numpy arrays."
      ]
    },
    {
      "cell_type": "markdown",
      "metadata": {
        "id": "VEYrkmZA_8_p"
      },
      "source": [
        "### 7.4 2D numpy arrays \n",
        "Now let’s construct our first 2D array."
      ]
    },
    {
      "cell_type": "code",
      "execution_count": null,
      "metadata": {
        "id": "3da718vt_8_p",
        "colab": {
          "base_uri": "https://localhost:8080/"
        },
        "outputId": "d8ee4d08-f38c-420f-e19b-f0a8783ce2ca"
      },
      "outputs": [
        {
          "output_type": "execute_result",
          "data": {
            "text/plain": [
              "array([[ 72,  78,  69,  71,  76,  79],\n",
              "       [180, 215, 210, 188, 176, 209]])"
            ]
          },
          "metadata": {},
          "execution_count": 60
        }
      ],
      "source": [
        "list_2d = [[72,78, 69,71,76, 79],[180, 215, 210, 188, 176, 209]]\n",
        "np_2d = np.array(list_2d)\n",
        "np_2d"
      ]
    },
    {
      "cell_type": "code",
      "execution_count": null,
      "metadata": {
        "id": "BCDD7_kI_8_p",
        "colab": {
          "base_uri": "https://localhost:8080/"
        },
        "outputId": "4908722a-0472-4814-90d9-6a855d85b7d0"
      },
      "outputs": [
        {
          "output_type": "execute_result",
          "data": {
            "text/plain": [
              "(2, 6)"
            ]
          },
          "metadata": {},
          "execution_count": 61
        }
      ],
      "source": [
        "np_2d.shape # 2 rows, 6 columns"
      ]
    },
    {
      "cell_type": "code",
      "execution_count": null,
      "metadata": {
        "id": "mU03ahSb_8_p",
        "colab": {
          "base_uri": "https://localhost:8080/"
        },
        "outputId": "e1db0622-aa99-436d-d777-ecd8fdad449d"
      },
      "outputs": [
        {
          "output_type": "stream",
          "name": "stdout",
          "text": [
            "[72 78 69 71 76 79]\n",
            "69\n",
            "69\n"
          ]
        }
      ],
      "source": [
        "# Indexing and Slicing \n",
        "print(np_2d[0]) # first row\n",
        "print(np_2d[0][2]) # first row, third column\n",
        "print(np_2d[0,2]) # Alternative slicing"
      ]
    },
    {
      "cell_type": "code",
      "execution_count": null,
      "metadata": {
        "id": "LUZbS_xA_8_p",
        "colab": {
          "base_uri": "https://localhost:8080/"
        },
        "outputId": "d4cab998-0f00-425f-e10c-e41091224d9f"
      },
      "outputs": [
        {
          "output_type": "execute_result",
          "data": {
            "text/plain": [
              "array([[ 69,  71],\n",
              "       [210, 188]])"
            ]
          },
          "metadata": {},
          "execution_count": 63
        }
      ],
      "source": [
        "np_2d[:,2:4] # : stands for all the rows"
      ]
    },
    {
      "cell_type": "code",
      "execution_count": null,
      "metadata": {
        "id": "DMHsFlRK_8_q",
        "colab": {
          "base_uri": "https://localhost:8080/"
        },
        "outputId": "a7503772-fc1c-4030-9c58-448300237b1e"
      },
      "outputs": [
        {
          "output_type": "execute_result",
          "data": {
            "text/plain": [
              "array([72, 78, 69, 71, 76, 79])"
            ]
          },
          "metadata": {},
          "execution_count": 64
        }
      ],
      "source": [
        "np_2d[0,:]"
      ]
    },
    {
      "cell_type": "markdown",
      "metadata": {
        "id": "Wiy7l04z_8_q"
      },
      "source": [
        "## 8. User Input"
      ]
    },
    {
      "cell_type": "code",
      "execution_count": null,
      "metadata": {
        "id": "JfMmqGgR_8_q",
        "scrolled": true,
        "colab": {
          "base_uri": "https://localhost:8080/",
          "height": 54
        },
        "outputId": "aa19dc52-1039-43a1-9dc4-0f0fb4050028"
      },
      "outputs": [
        {
          "name": "stdout",
          "output_type": "stream",
          "text": [
            "Enter a number:4\n"
          ]
        },
        {
          "output_type": "execute_result",
          "data": {
            "text/plain": [
              "'4'"
            ],
            "application/vnd.google.colaboratory.intrinsic+json": {
              "type": "string"
            }
          },
          "metadata": {},
          "execution_count": 65
        }
      ],
      "source": [
        "input(\"Enter a number:\")"
      ]
    },
    {
      "cell_type": "code",
      "execution_count": null,
      "metadata": {
        "id": "foS3H3_o_8_q",
        "colab": {
          "base_uri": "https://localhost:8080/"
        },
        "outputId": "7c0e70d9-1204-404f-b6c5-a670ae86a8f1"
      },
      "outputs": [
        {
          "name": "stdout",
          "output_type": "stream",
          "text": [
            "Enter a number:4\n"
          ]
        }
      ],
      "source": [
        "x = input(\"Enter a number:\") # input default is always a string"
      ]
    },
    {
      "cell_type": "code",
      "execution_count": null,
      "metadata": {
        "id": "jfmyFLgU_8_q",
        "colab": {
          "base_uri": "https://localhost:8080/"
        },
        "outputId": "0b30ac31-ee9a-47fe-d153-e953a5695177"
      },
      "outputs": [
        {
          "output_type": "stream",
          "name": "stdout",
          "text": [
            "4\n"
          ]
        },
        {
          "output_type": "execute_result",
          "data": {
            "text/plain": [
              "str"
            ]
          },
          "metadata": {},
          "execution_count": 67
        }
      ],
      "source": [
        "print(x)\n",
        "type(x)"
      ]
    },
    {
      "cell_type": "code",
      "execution_count": null,
      "metadata": {
        "id": "qVScqpCJ_8_q",
        "colab": {
          "base_uri": "https://localhost:8080/"
        },
        "outputId": "42d61e98-5669-44fd-ea2a-275224e9fb4c"
      },
      "outputs": [
        {
          "output_type": "execute_result",
          "data": {
            "text/plain": [
              "int"
            ]
          },
          "metadata": {},
          "execution_count": 68
        }
      ],
      "source": [
        "x = int(x)\n",
        "type(x) #if you convert a value from float to integer the value will be different"
      ]
    },
    {
      "cell_type": "markdown",
      "metadata": {
        "id": "_hRq0oOKAA4Y"
      },
      "source": [
        "## 9. Random Number"
      ]
    },
    {
      "cell_type": "code",
      "execution_count": null,
      "metadata": {
        "id": "GeNqoAM-ADze"
      },
      "outputs": [],
      "source": [
        "import random\n",
        "# generate a number between 0 and 1\n",
        "rv = random.uniform(0, 1)\n",
        "print (rv)"
      ]
    },
    {
      "cell_type": "markdown",
      "metadata": {
        "id": "jNIgYZl_BjvT"
      },
      "source": [
        "An array of random Gaussian values can be generated using the randn() NumPy function.  \n",
        "This function takes a single argument to specify the size of the resulting array. The Gaussian values are drawn from a standard Gaussian distribution; this is a distribution that has a mean of 0.0 and a standard deviation of 1.0.\n",
        "\n",
        "\n",
        "*   Random numner important for random sampling and A/B testing - control group\n",
        "\n",
        "*   Normal and gaussian are the same, what does it mean to draw a random variable that follows a normal distribution?\n",
        "\n",
        "* Randomizing the data is important once you have analyzed it for data privacy - grouping very detailed data or they would add some noise to the data - this noise is a random variable with mean and SD following normal distribution\n",
        "*  Seed - a way to replicate the random variables - i want to make sure that every time I run this code on my computer, you will generate the same set of random variables. You keep changing the value of the seed to create a new set.\n",
        "\n",
        "\n",
        "\n",
        "experimental group"
      ]
    },
    {
      "cell_type": "code",
      "source": [
        ""
      ],
      "metadata": {
        "id": "zzj0XTkeR_qM"
      },
      "execution_count": null,
      "outputs": []
    },
    {
      "cell_type": "code",
      "source": [
        ""
      ],
      "metadata": {
        "id": "YXclinbdQi-i"
      },
      "execution_count": null,
      "outputs": []
    },
    {
      "cell_type": "code",
      "source": [
        ""
      ],
      "metadata": {
        "id": "G0GNtd4YQgWe"
      },
      "execution_count": null,
      "outputs": []
    },
    {
      "cell_type": "code",
      "execution_count": null,
      "metadata": {
        "id": "n_wkpVSnAyHj"
      },
      "outputs": [],
      "source": [
        "# generate random Gaussian values\n",
        "from numpy.random import seed\n",
        "from numpy.random import randn\n",
        "# seed random number generator\n",
        "seed(1)\n",
        "# generate some Gaussian values\n",
        "values = randn(10)\n",
        "print(values)"
      ]
    }
  ],
  "metadata": {
    "colab": {
      "collapsed_sections": [
        "bfvjOnNK_8_m",
        "o-7Ezycn_8_n",
        "ZkZp3sHK_8_o",
        "YZly5ZZ9_8_p"
      ],
      "name": "Class 1.ipynb",
      "provenance": [],
      "include_colab_link": true
    },
    "kernelspec": {
      "display_name": "Python 3 (ipykernel)",
      "language": "python",
      "name": "python3"
    },
    "language_info": {
      "codemirror_mode": {
        "name": "ipython",
        "version": 3
      },
      "file_extension": ".py",
      "mimetype": "text/x-python",
      "name": "python",
      "nbconvert_exporter": "python",
      "pygments_lexer": "ipython3",
      "version": "3.10.2"
    }
  },
  "nbformat": 4,
  "nbformat_minor": 0
}